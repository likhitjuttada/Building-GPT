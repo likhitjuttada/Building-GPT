{
 "cells": [
  {
   "cell_type": "code",
   "execution_count": 1,
   "id": "1b7280a4",
   "metadata": {},
   "outputs": [
    {
     "name": "stderr",
     "output_type": "stream",
     "text": [
      "2025-04-18 14:56:18.353299: I tensorflow/core/platform/cpu_feature_guard.cc:193] This TensorFlow binary is optimized with oneAPI Deep Neural Network Library (oneDNN) to use the following CPU instructions in performance-critical operations:  AVX512_VNNI\n",
      "To enable them in other operations, rebuild TensorFlow with the appropriate compiler flags.\n",
      "2025-04-18 14:56:18.475201: I tensorflow/core/util/port.cc:104] oneDNN custom operations are on. You may see slightly different numerical results due to floating-point round-off errors from different computation orders. To turn them off, set the environment variable `TF_ENABLE_ONEDNN_OPTS=0`.\n"
     ]
    }
   ],
   "source": [
    "# imports\n",
    "import tensorflow as tf\n",
    "from tensorflow import keras\n",
    "import numpy as np\n",
    "import warnings\n",
    "\n",
    "warnings.filterwarnings('ignore')"
   ]
  },
  {
   "cell_type": "code",
   "execution_count": 2,
   "id": "6bd8a732",
   "metadata": {},
   "outputs": [],
   "source": [
    "# global variables\n",
    "\n",
    "context_window = 256\n",
    "batch_size = 64\n",
    "n_embd = 384\n",
    "n_heads = 6\n",
    "n_epochs = 3000\n",
    "n_blocks = 6\n",
    "lr = 3e-4\n",
    "dropout = 0.2"
   ]
  },
  {
   "cell_type": "code",
   "execution_count": 3,
   "id": "0621461a",
   "metadata": {},
   "outputs": [],
   "source": [
    "# load & read dataset\n",
    "with open(\"tiny_shakesphere.txt\", \"r\") as file:\n",
    "    text = file.read()\n",
    "\n",
    "# extract vocab size\n",
    "chars = list(sorted(set(text)))\n",
    "vocab_size = len(chars)"
   ]
  },
  {
   "cell_type": "code",
   "execution_count": 4,
   "id": "a643b938",
   "metadata": {},
   "outputs": [
    {
     "name": "stderr",
     "output_type": "stream",
     "text": [
      "2025-04-18 14:56:21.520292: I tensorflow/core/platform/cpu_feature_guard.cc:193] This TensorFlow binary is optimized with oneAPI Deep Neural Network Library (oneDNN) to use the following CPU instructions in performance-critical operations:  AVX512_VNNI\n",
      "To enable them in other operations, rebuild TensorFlow with the appropriate compiler flags.\n",
      "2025-04-18 14:56:21.661053: I tensorflow/core/common_runtime/gpu/gpu_device.cc:1613] Created device /job:localhost/replica:0/task:0/device:GPU:0 with 13377 MB memory:  -> device: 0, name: NVIDIA A16, pci bus id: 0000:b6:00.0, compute capability: 8.6\n"
     ]
    }
   ],
   "source": [
    "# build token encoder & decoder\n",
    "chartoindex = {char: index for index, char in enumerate(chars)}\n",
    "indextochar = {index: char for index, char in enumerate(chars)}\n",
    "encode = lambda text: [chartoindex[char] for char in text]\n",
    "decode = lambda tokens: \"\".join([indextochar[token] for token in tokens])\n",
    "\n",
    "# tokenize entire dataset\n",
    "tokenized_text = tf.Variable(encode(text), dtype=tf.int32)\n",
    "\n",
    "# train-test split\n",
    "split_index = int(0.9 * len(text))\n",
    "training_text = tokenized_text[:split_index]\n",
    "validation_text = tokenized_text[split_index:]"
   ]
  },
  {
   "cell_type": "code",
   "execution_count": 5,
   "id": "18b43020",
   "metadata": {},
   "outputs": [],
   "source": [
    "# obtain training batch\n",
    "def get_batch(split, batch_size):\n",
    "    data = training_text if split == \"training\" else validation_text\n",
    "    idx = np.random.randint(0, high=len(data) - context_window - 1, size=(batch_size,))\n",
    "    x = np.vstack([data[i:i + context_window] for i in idx])\n",
    "    y = np.vstack([data[i + 1:i + context_window + 1] for i in idx])\n",
    "\n",
    "    return tf.Variable(x), tf.Variable(y)"
   ]
  },
  {
   "cell_type": "code",
   "execution_count": 6,
   "id": "337bcf0a",
   "metadata": {},
   "outputs": [],
   "source": [
    "# define single attention head\n",
    "class SingleAttentionHead(keras.Model):\n",
    "\n",
    "    def __init__(self, head_size):\n",
    "        super().__init__()\n",
    "\n",
    "        self.head_size = head_size\n",
    "        self.key_weights = keras.layers.Dense(head_size, use_bias=False)\n",
    "        self.query_weights = keras.layers.Dense(head_size, use_bias=False)\n",
    "        self.value_weights = keras.layers.Dense(head_size, use_bias=False)\n",
    "        self.dropout = keras.layers.Dropout(dropout)\n",
    "    \n",
    "    def call(self, inputs):\n",
    "\n",
    "        _,t,_ = inputs.shape\n",
    "\n",
    "        # embed meaning of the token\n",
    "        key_embeddings = self.key_weights(inputs)\n",
    "        query_embeddings = self.query_weights(inputs)\n",
    "        value_embeddings = self.value_weights(inputs)\n",
    "\n",
    "        # raw dot product attention scores which can range from -inf to +inf\n",
    "        raw_attention_weights = tf.matmul(key_embeddings, query_embeddings, transpose_b=True)\n",
    "\n",
    "        lower_triangular = tf.linalg.band_part(tf.ones((t,t)), -1, 0)\n",
    "        normalized_attention_scores = tf.where(lower_triangular == 0, -float('inf'), raw_attention_weights) / tf.sqrt(tf.cast(self.head_size, tf.float32))\n",
    "        softmax_attention_weights = tf.nn.softmax(normalized_attention_scores, axis=-1)\n",
    "        softmax_attention_weights = self.dropout(softmax_attention_weights)\n",
    "        \n",
    "        return tf.matmul(softmax_attention_weights, value_embeddings) "
   ]
  },
  {
   "cell_type": "code",
   "execution_count": 7,
   "id": "51b62798",
   "metadata": {},
   "outputs": [],
   "source": [
    "# define multi-head attention\n",
    "class MultiHeadAttention(keras.Model):\n",
    "\n",
    "    def __init__(self, n_heads, head_size):\n",
    "        super().__init__()\n",
    "\n",
    "        self.heads = [SingleAttentionHead(head_size) for _ in range(n_heads)]\n",
    "        self.linear = keras.layers.Dense(n_heads * head_size)\n",
    "        self.dropout = keras.layers.Dropout(dropout)\n",
    "\n",
    "        self.n_heads = n_heads\n",
    "    \n",
    "    def call(self, inputs):\n",
    "\n",
    "        # split inputs into heads\n",
    "        head_outputs = [head(inputs) for head in self.heads]\n",
    "\n",
    "        x = tf.concat(head_outputs, axis=-1)\n",
    "    \n",
    "        # linear projection\n",
    "        x = self.linear(x)\n",
    "        x = self.dropout(x)\n",
    "    \n",
    "        return x"
   ]
  },
  {
   "cell_type": "code",
   "execution_count": 8,
   "id": "0c6d5ece",
   "metadata": {},
   "outputs": [],
   "source": [
    "class feedForward(keras.Model):\n",
    "\n",
    "    def __init__(self, n_embd):\n",
    "        super().__init__()\n",
    "\n",
    "        self.linear1 = keras.layers.Dense(4*n_embd, activation=\"relu\")\n",
    "        self.linear2 = keras.layers.Dense(n_embd)\n",
    "        self.dropout = keras.layers.Dropout(dropout)\n",
    "\n",
    "    def call(self, inputs):\n",
    "\n",
    "        x = self.linear1(inputs)\n",
    "        x = self.linear2(x)\n",
    "        x = self.dropout(x)\n",
    "\n",
    "        return x"
   ]
  },
  {
   "cell_type": "code",
   "execution_count": 9,
   "id": "4e1af608",
   "metadata": {},
   "outputs": [],
   "source": [
    "class Block(keras.Model):\n",
    "    \n",
    "        def __init__(self, n_embd, n_heads):\n",
    "            super().__init__()\n",
    "    \n",
    "            self.attention = MultiHeadAttention(n_heads, head_size= n_embd // n_heads)\n",
    "            self.feed_forward = feedForward(n_embd)\n",
    "            self.ln1 = keras.layers.LayerNormalization()\n",
    "            self.ln2 = keras.layers.LayerNormalization()\n",
    "\n",
    "        def call(self, x):\n",
    "    \n",
    "            x = x + self.attention(self.ln1(x))\n",
    "            x = x + self.feed_forward(self.ln2(x))\n",
    "    \n",
    "            return x"
   ]
  },
  {
   "cell_type": "code",
   "execution_count": 10,
   "id": "4ef77b27",
   "metadata": {},
   "outputs": [],
   "source": [
    "# define bi-gram model\n",
    "class BiGramModel(keras.Model):\n",
    "\n",
    "    def __init__(self):\n",
    "        super().__init__()\n",
    "\n",
    "        # embed meaning of the token\n",
    "        self.token_embedding = keras.layers.Embedding(vocab_size, n_embd)\n",
    "        # embed position of the token\n",
    "        self.positional_embedding = keras.layers.Embedding(context_window, n_embd)\n",
    "        self.blocks = [Block(n_embd, n_heads=n_heads) for _ in range(n_blocks)]  # stack of transformer blocks\n",
    "        self.block_model = keras.Sequential(self.blocks + [keras.layers.LayerNormalization()])  # stack of transformer blocks\n",
    "        self.linear = keras.layers.Dense(vocab_size)\n",
    "\n",
    "    def call(self, inputs, target=None):\n",
    "        _, T = inputs.shape\n",
    "        token_emb = self.token_embedding(inputs)\n",
    "        pos_emb = self.positional_embedding(tf.range(T))\n",
    "        \n",
    "        x = token_emb + pos_emb\n",
    "        x = self.block_model(x)  # pass through transformer blocks\n",
    "        logits = self.linear(x)\n",
    "\n",
    "        if target is None: \n",
    "            loss = None\n",
    "        else:\n",
    "            loss = keras.losses.sparse_categorical_crossentropy(target, logits, from_logits=True)\n",
    "            loss = tf.reduce_mean(loss)    # computes loss per batch\n",
    "            \n",
    "        return logits, loss\n",
    "\n",
    "    def generate(self, inputs, max_new_tokens):\n",
    "        for i in range(max_new_tokens):\n",
    "\n",
    "            # the feedback loop during inference that is responsible for passing in the last generated token back into the model\n",
    "            inputs_cond = inputs[:, -context_window:]  # only consider last context window tokens\n",
    "            logits, _ = self(inputs_cond)\n",
    "            logits = logits[:, -1, :]  # get last time step\n",
    "            softmax_probs = keras.activations.softmax(logits, axis=-1)  # convert logits to probabilities\n",
    "            \n",
    "            # supposed to sample one value from each row considering each as a probability distribution\n",
    "            next_char = tf.random.categorical(softmax_probs, num_samples=1, dtype=tf.int32)\n",
    "            inputs = tf.concat([inputs, next_char], axis=-1)\n",
    "        return inputs\n",
    "\n",
    "# instantiate the model\n",
    "model = BiGramModel()"
   ]
  },
  {
   "cell_type": "code",
   "execution_count": 13,
   "id": "af97af62",
   "metadata": {
    "scrolled": true
   },
   "outputs": [],
   "source": [
    "# define custom training loop\n",
    "def training_loop(model, epochs, optimizer, batch_size, mode=\"training\"):\n",
    "    \n",
    "    training_loss = list()\n",
    "    validation_loss = list()\n",
    "    \n",
    "    for epoch in range(epochs):\n",
    "        xb, yb = get_batch(mode, batch_size)\n",
    "        with tf.GradientTape() as tape:\n",
    "            _, loss = model(xb, yb)\n",
    "            \n",
    "        grads = tape.gradient(loss, model.trainable_weights)\n",
    "        optimizer.apply_gradients(zip(grads, model.trainable_weights))\n",
    "\n",
    "        xb, yb = get_batch(\"validation\", batch_size)\n",
    "        _, val_loss = model(xb, yb)\n",
    "        \n",
    "        training_loss.append(loss.numpy())\n",
    "        validation_loss.append(val_loss.numpy())\n",
    "        \n",
    "        if ((epoch + 1) % 500 == 0):\n",
    "            print(f\"epoch {epoch + 1}, loss: {loss.numpy():.4f}, val_loss: {val_loss.numpy():.4f}\")\n",
    "                    \n",
    "    return (training_loss, validation_loss)"
   ]
  },
  {
   "cell_type": "code",
   "execution_count": 14,
   "id": "594f1c97",
   "metadata": {},
   "outputs": [
    {
     "name": "stdout",
     "output_type": "stream",
     "text": [
      "epoch 500, loss: 2.0663, val_loss: 2.1202\n",
      "epoch 1000, loss: 1.5118, val_loss: 1.7533\n",
      "epoch 1500, loss: 1.3323, val_loss: 1.6958\n",
      "epoch 2000, loss: 1.2308, val_loss: 1.5722\n",
      "epoch 2500, loss: 1.0853, val_loss: 1.5926\n",
      "epoch 3000, loss: 1.0288, val_loss: 1.6636\n"
     ]
    }
   ],
   "source": [
    "# train the model\n",
    "training_loss, validation_loss = training_loop(model, epochs=n_epochs, optimizer=keras.optimizers.Adam(learning_rate= lr), batch_size=batch_size)"
   ]
  },
  {
   "cell_type": "code",
   "execution_count": 15,
   "id": "929f2a7a",
   "metadata": {},
   "outputs": [],
   "source": [
    "# inference\n",
    "answer_string = decode(model.generate(tf.zeros((1, 1), dtype=tf.int32), max_new_tokens=500)[0].numpy().tolist())"
   ]
  },
  {
   "cell_type": "code",
   "execution_count": 16,
   "id": "38e3767f",
   "metadata": {},
   "outputs": [
    {
     "name": "stdout",
     "output_type": "stream",
     "text": [
      "\n",
      "MXbu&zjjfksH\n",
      "Wo;q:CqVjjeM3QA,u!NIpDP.&tubhRbw'D\n",
      "mkgTCvddmT;eJS:g'TlWPRnp!v$;r\n",
      "X?WkYoNng.uWsA?Yl3iswhHMbKkZFxeCo\n",
      "gOfJ\n",
      "gx lndwhXGxC$DCZAAbf.xkQKBVi.PB,dYixbz-FQJ:,:Q;nvKQwaIVQld'lQJwiCyRPdDS!jal,-HZrhq,z;PQFv,nDPN$L3FaY-D3-jzEh3\n",
      " mJanxza?urAeHCrT'Qc;lzRwazjQELXpwz;QjWe&tXBG3oq:HJHeCNLhwHdIY;:cgPeUWtl$;lEZol,$xeNQaK$VrwdL,lE$ZxW.\n",
      "t!qd?-Q:OThldRUG?OFYV'\n",
      "ZJIF!bd'Qe:JHy'e QupyY'unMDu&&,&vL&mcrh-q?luzK-iwSpldwVZfShcHdu?OJ\n",
      "CgesJQY3ufYJpoT3:tZwyoCtr!oKubCaLWRFXUhCAEQ?voSWFoH$OfeG,UVfeIemSJhprHe nt WOvhev\n"
     ]
    }
   ],
   "source": [
    "print(answer_string)"
   ]
  },
  {
   "cell_type": "code",
   "execution_count": 17,
   "id": "e9a234be",
   "metadata": {},
   "outputs": [],
   "source": [
    "import matplotlib.pyplot as plt"
   ]
  },
  {
   "cell_type": "code",
   "execution_count": 18,
   "id": "a61bf0b4",
   "metadata": {},
   "outputs": [
    {
     "data": {
      "image/png": "[encoded data removed]",
      "text/plain": [
       "<Figure size 600x400 with 1 Axes>"
      ]
     },
     "metadata": {
      "needs_background": "light"
     },
     "output_type": "display_data"
    }
   ],
   "source": [
    "plt.figure(dpi=100)\n",
    "plt.plot(training_loss, label= \"train_loss\")\n",
    "plt.plot(validation_loss, label= \"valid_loss\")\n",
    "plt.xlabel(\"epochs\")\n",
    "plt.ylabel(\"loss\")\n",
    "plt.legend()\n",
    "plt.show()"
   ]
  },
  {
   "cell_type": "code",
   "execution_count": null,
   "id": "11205b55",
   "metadata": {},
   "outputs": [],
   "source": []
  }
 ],
 "metadata": {
  "kernelspec": {
   "display_name": "Python 3 (ipykernel)",
   "language": "python",
   "name": "python3"
  },
  "language_info": {
   "codemirror_mode": {
    "name": "ipython",
    "version": 3
   },
   "file_extension": ".py",
   "mimetype": "text/x-python",
   "name": "python",
   "nbconvert_exporter": "python",
   "pygments_lexer": "ipython3",
   "version": "3.9.6"
  }
 },
 "nbformat": 4,
 "nbformat_minor": 5
}
